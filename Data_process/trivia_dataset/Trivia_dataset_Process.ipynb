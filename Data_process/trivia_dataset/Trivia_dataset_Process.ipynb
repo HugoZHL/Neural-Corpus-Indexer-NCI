{
 "cells": [
  {
   "cell_type": "code",
   "execution_count": 1,
   "id": "6f41a853",
   "metadata": {},
   "outputs": [
    {
     "name": "stderr",
     "output_type": "stream",
     "text": [
      "/home/xiaoliu2/.conda/envs/faiss/lib/python3.10/site-packages/tqdm/auto.py:22: TqdmWarning: IProgress not found. Please update jupyter and ipywidgets. See https://ipywidgets.readthedocs.io/en/stable/user_install.html\n",
      "  from .autonotebook import tqdm as notebook_tqdm\n"
     ]
    }
   ],
   "source": [
    "import os\n",
    "import json\n",
    "import pandas as pd\n",
    "import pickle\n",
    "from transformers import BertTokenizer, BertModel\n",
    "import numpy as np\n",
    "from tqdm import trange, tqdm\n",
    "import random"
   ]
  },
  {
   "cell_type": "markdown",
   "id": "09bbc76c",
   "metadata": {},
   "source": [
    "###### Download TriviaQA dataset from https://nlp.cs.washington.edu/triviaqa/data/triviaqa-rc.tar.gz"
   ]
  },
  {
   "cell_type": "code",
   "execution_count": null,
   "id": "f4d03965",
   "metadata": {},
   "outputs": [],
   "source": [
    "evidence_dir = os.path.join(\"evidence/wikipedia\")\n",
    "qa_train_path = os.path.join(\"qa/wikipedia-train.json\")\n",
    "qa_dev_path = os.path.join(\"qa/wikipedia-dev.json\")\n",
    "qa_test_path = os.path.join(\"qa/wikipedia-test-without-answers.json\")\n",
    "\n",
    "def txt2title(text):\n",
    "    return os.path.splitext(text)[0].replace('_', ' ')\n",
    "\n",
    "full_doc = {}\n",
    "global_index = 0\n",
    "for file_name in os.listdir(evidence_dir):\n",
    "    if file_name.endswith(\".txt\"):\n",
    "        title = txt2title(file_name)\n",
    "        assert title not in full_doc, f\"dup title for {file_name}\"\n",
    "        with open(os.path.join(evidence_dir, file_name)) as f:\n",
    "            body = f.read().replace('\\n', ' ').replace('\\t', ' ').replace('\\r', ' ')[:10240]\n",
    "        full_doc[file_name] = (str(global_index), title, body)\n",
    "        global_index += 1\n",
    "lines = ['\\t'.join(v) + '\\n' for v in full_doc.values()]\n",
    "with open(\"trivia_qa_fulldoc.csv\", \"w\") as f:\n",
    "    f.writelines(lines)\n",
    "\n",
    "\n",
    "for in_file, out_file in zip((qa_train_path, qa_dev_path, qa_test_path), (\"trivia_qa_train.csv\", \"trivia_qa_dev.csv\", \"trivia_qa_test.csv\")):\n",
    "    with open(in_file) as f:\n",
    "        raw = json.load(f)\n",
    "\n",
    "    lines = []\n",
    "    for item in raw[\"Data\"]:\n",
    "        query = item[\"Question\"]\n",
    "        doc_ids = [full_doc[doc[\"Filename\"]][0] for doc in item[\"EntityPages\"]]\n",
    "        lines.append(query + \"\\t\" + ','.join(doc_ids) + \"\\n\")\n",
    "\n",
    "    with open(out_file, \"w\") as f:\n",
    "        f.writelines(lines)"
   ]
  },
  {
   "cell_type": "code",
   "execution_count": 20,
   "id": "2fbd69b5",
   "metadata": {},
   "outputs": [],
   "source": [
    "tokenizer = BertTokenizer.from_pretrained('bert-base-uncased')\n",
    "\n",
    "def lower(x):\n",
    "    try:\n",
    "        text = tokenizer.tokenize(x)[:512]\n",
    "        id_ = tokenizer.convert_tokens_to_ids(text)\n",
    "        return tokenizer.decode(id_)\n",
    "    except:\n",
    "        return x"
   ]
  },
  {
   "cell_type": "code",
   "execution_count": 2,
   "id": "ba114a0f",
   "metadata": {
    "scrolled": false
   },
   "outputs": [
    {
     "data": {
      "text/html": [
       "<div>\n",
       "<style scoped>\n",
       "    .dataframe tbody tr th:only-of-type {\n",
       "        vertical-align: middle;\n",
       "    }\n",
       "\n",
       "    .dataframe tbody tr th {\n",
       "        vertical-align: top;\n",
       "    }\n",
       "\n",
       "    .dataframe thead th {\n",
       "        text-align: right;\n",
       "    }\n",
       "</style>\n",
       "<table border=\"1\" class=\"dataframe\">\n",
       "  <thead>\n",
       "    <tr style=\"text-align: right;\">\n",
       "      <th></th>\n",
       "      <th>query</th>\n",
       "      <th>docid</th>\n",
       "    </tr>\n",
       "  </thead>\n",
       "  <tbody>\n",
       "    <tr>\n",
       "      <th>0</th>\n",
       "      <td>Where in England was Dame Judi Dench born?</td>\n",
       "      <td>20915,34792</td>\n",
       "    </tr>\n",
       "    <tr>\n",
       "      <th>1</th>\n",
       "      <td>From which country did Angola achieve independ...</td>\n",
       "      <td>46305,4468,4470</td>\n",
       "    </tr>\n",
       "    <tr>\n",
       "      <th>2</th>\n",
       "      <td>Which city does David Soul come from?</td>\n",
       "      <td>17309</td>\n",
       "    </tr>\n",
       "    <tr>\n",
       "      <th>3</th>\n",
       "      <td>Who won Super Bowl XX?</td>\n",
       "      <td>62618</td>\n",
       "    </tr>\n",
       "    <tr>\n",
       "      <th>4</th>\n",
       "      <td>Which was the first European country to abolis...</td>\n",
       "      <td>21489,11677</td>\n",
       "    </tr>\n",
       "    <tr>\n",
       "      <th>...</th>\n",
       "      <td>...</td>\n",
       "      <td>...</td>\n",
       "    </tr>\n",
       "    <tr>\n",
       "      <th>61883</th>\n",
       "      <td>For a point each, name the 5 countries surroun...</td>\n",
       "      <td>35341</td>\n",
       "    </tr>\n",
       "    <tr>\n",
       "      <th>61884</th>\n",
       "      <td>March 9, 1959 saw the introduction of what Mat...</td>\n",
       "      <td>43025,22363,6991</td>\n",
       "    </tr>\n",
       "    <tr>\n",
       "      <th>61885</th>\n",
       "      <td>On January 16, 2001, President Bill Clinton aw...</td>\n",
       "      <td>52730,43293,66965</td>\n",
       "    </tr>\n",
       "    <tr>\n",
       "      <th>61886</th>\n",
       "      <td>July 27, 1940 saw the introduction of what bel...</td>\n",
       "      <td>2069</td>\n",
       "    </tr>\n",
       "    <tr>\n",
       "      <th>61887</th>\n",
       "      <td>According to the Bart Simpsons TV ad, Nobody b...</td>\n",
       "      <td>7142</td>\n",
       "    </tr>\n",
       "  </tbody>\n",
       "</table>\n",
       "<p>61888 rows × 2 columns</p>\n",
       "</div>"
      ],
      "text/plain": [
       "                                                   query              docid\n",
       "0             Where in England was Dame Judi Dench born?        20915,34792\n",
       "1      From which country did Angola achieve independ...    46305,4468,4470\n",
       "2                  Which city does David Soul come from?              17309\n",
       "3                                 Who won Super Bowl XX?              62618\n",
       "4      Which was the first European country to abolis...        21489,11677\n",
       "...                                                  ...                ...\n",
       "61883  For a point each, name the 5 countries surroun...              35341\n",
       "61884  March 9, 1959 saw the introduction of what Mat...   43025,22363,6991\n",
       "61885  On January 16, 2001, President Bill Clinton aw...  52730,43293,66965\n",
       "61886  July 27, 1940 saw the introduction of what bel...               2069\n",
       "61887  According to the Bart Simpsons TV ad, Nobody b...               7142\n",
       "\n",
       "[61888 rows x 2 columns]"
      ]
     },
     "execution_count": 2,
     "metadata": {},
     "output_type": "execute_result"
    }
   ],
   "source": [
    "df_train = pd.read_csv('trivia_qa_train.csv',\n",
    "                        names=[\"query\", \"docid\"],\n",
    "                        encoding='utf-8', header=None, sep='\\t')\n",
    "df_train"
   ]
  },
  {
   "cell_type": "code",
   "execution_count": 9,
   "id": "6a4482cc",
   "metadata": {
    "scrolled": false
   },
   "outputs": [
    {
     "data": {
      "text/html": [
       "<div>\n",
       "<style scoped>\n",
       "    .dataframe tbody tr th:only-of-type {\n",
       "        vertical-align: middle;\n",
       "    }\n",
       "\n",
       "    .dataframe tbody tr th {\n",
       "        vertical-align: top;\n",
       "    }\n",
       "\n",
       "    .dataframe thead th {\n",
       "        text-align: right;\n",
       "    }\n",
       "</style>\n",
       "<table border=\"1\" class=\"dataframe\">\n",
       "  <thead>\n",
       "    <tr style=\"text-align: right;\">\n",
       "      <th></th>\n",
       "      <th>query</th>\n",
       "      <th>docid</th>\n",
       "    </tr>\n",
       "  </thead>\n",
       "  <tbody>\n",
       "    <tr>\n",
       "      <th>0</th>\n",
       "      <td>Which Lloyd Webber musical premiered in the US...</td>\n",
       "      <td>4290</td>\n",
       "    </tr>\n",
       "    <tr>\n",
       "      <th>1</th>\n",
       "      <td>Who was the next British Prime Minister after ...</td>\n",
       "      <td>52837,5562</td>\n",
       "    </tr>\n",
       "    <tr>\n",
       "      <th>2</th>\n",
       "      <td>Who had a 70s No 1 hit with Kiss You All Over?</td>\n",
       "      <td>35959</td>\n",
       "    </tr>\n",
       "    <tr>\n",
       "      <th>3</th>\n",
       "      <td>What claimed the life of singer Kathleen Ferrier?</td>\n",
       "      <td>35295</td>\n",
       "    </tr>\n",
       "    <tr>\n",
       "      <th>4</th>\n",
       "      <td>Which actress was voted Miss Greenwich Village...</td>\n",
       "      <td>37010</td>\n",
       "    </tr>\n",
       "    <tr>\n",
       "      <th>...</th>\n",
       "      <td>...</td>\n",
       "      <td>...</td>\n",
       "    </tr>\n",
       "    <tr>\n",
       "      <th>7988</th>\n",
       "      <td>Whose backing band is known as The Miami Sound...</td>\n",
       "      <td>43835</td>\n",
       "    </tr>\n",
       "    <tr>\n",
       "      <th>7989</th>\n",
       "      <td>With a motto of Always Ready, Always There, wh...</td>\n",
       "      <td>46365</td>\n",
       "    </tr>\n",
       "    <tr>\n",
       "      <th>7990</th>\n",
       "      <td>Who tried to steal Christmas from the town of ...</td>\n",
       "      <td>72237</td>\n",
       "    </tr>\n",
       "    <tr>\n",
       "      <th>7991</th>\n",
       "      <td>What is the name of the parson mentioned in th...</td>\n",
       "      <td>72761,24534</td>\n",
       "    </tr>\n",
       "    <tr>\n",
       "      <th>7992</th>\n",
       "      <td>In what outdoor sport, sanctioned by the NHPA,...</td>\n",
       "      <td>30198</td>\n",
       "    </tr>\n",
       "  </tbody>\n",
       "</table>\n",
       "<p>7993 rows × 2 columns</p>\n",
       "</div>"
      ],
      "text/plain": [
       "                                                  query        docid\n",
       "0     Which Lloyd Webber musical premiered in the US...         4290\n",
       "1     Who was the next British Prime Minister after ...   52837,5562\n",
       "2        Who had a 70s No 1 hit with Kiss You All Over?        35959\n",
       "3     What claimed the life of singer Kathleen Ferrier?        35295\n",
       "4     Which actress was voted Miss Greenwich Village...        37010\n",
       "...                                                 ...          ...\n",
       "7988  Whose backing band is known as The Miami Sound...        43835\n",
       "7989  With a motto of Always Ready, Always There, wh...        46365\n",
       "7990  Who tried to steal Christmas from the town of ...        72237\n",
       "7991  What is the name of the parson mentioned in th...  72761,24534\n",
       "7992  In what outdoor sport, sanctioned by the NHPA,...        30198\n",
       "\n",
       "[7993 rows x 2 columns]"
      ]
     },
     "execution_count": 9,
     "metadata": {},
     "output_type": "execute_result"
    }
   ],
   "source": [
    "df_val = pd.read_csv('trivia_qa_dev.csv',\n",
    "                        names=[\"query\", \"docid\"],\n",
    "                        encoding='utf-8', header=None, sep='\\t').loc[:, ['query', 'docid']]\n",
    "df_val"
   ]
  },
  {
   "cell_type": "code",
   "execution_count": 8,
   "id": "3ad5e1d8",
   "metadata": {
    "scrolled": false
   },
   "outputs": [
    {
     "data": {
      "text/html": [
       "<div>\n",
       "<style scoped>\n",
       "    .dataframe tbody tr th:only-of-type {\n",
       "        vertical-align: middle;\n",
       "    }\n",
       "\n",
       "    .dataframe tbody tr th {\n",
       "        vertical-align: top;\n",
       "    }\n",
       "\n",
       "    .dataframe thead th {\n",
       "        text-align: right;\n",
       "    }\n",
       "</style>\n",
       "<table border=\"1\" class=\"dataframe\">\n",
       "  <thead>\n",
       "    <tr style=\"text-align: right;\">\n",
       "      <th></th>\n",
       "      <th>query</th>\n",
       "      <th>docid</th>\n",
       "    </tr>\n",
       "  </thead>\n",
       "  <tbody>\n",
       "    <tr>\n",
       "      <th>0</th>\n",
       "      <td>Asmara international airport is in which country?</td>\n",
       "      <td>5749</td>\n",
       "    </tr>\n",
       "    <tr>\n",
       "      <th>1</th>\n",
       "      <td>At whose concert were 11 people trampled to de...</td>\n",
       "      <td>48292,66780</td>\n",
       "    </tr>\n",
       "    <tr>\n",
       "      <th>2</th>\n",
       "      <td>Andy Warhol/'s 60s exhibition featured cans of...</td>\n",
       "      <td>4371</td>\n",
       "    </tr>\n",
       "    <tr>\n",
       "      <th>3</th>\n",
       "      <td>San Giusto international airport is in which c...</td>\n",
       "      <td>51591</td>\n",
       "    </tr>\n",
       "    <tr>\n",
       "      <th>4</th>\n",
       "      <td>Who had a 60s No 1 with Travelin' Man?</td>\n",
       "      <td>456,68539</td>\n",
       "    </tr>\n",
       "    <tr>\n",
       "      <th>...</th>\n",
       "      <td>...</td>\n",
       "      <td>...</td>\n",
       "    </tr>\n",
       "    <tr>\n",
       "      <th>7696</th>\n",
       "      <td>December 15, 1773 saw The Sons of Liberty boar...</td>\n",
       "      <td>57457</td>\n",
       "    </tr>\n",
       "    <tr>\n",
       "      <th>7697</th>\n",
       "      <td>The Decepticons are the mortal enemies of whom?</td>\n",
       "      <td>17567</td>\n",
       "    </tr>\n",
       "    <tr>\n",
       "      <th>7698</th>\n",
       "      <td>Next appearing locally in 2013, the Richard Wa...</td>\n",
       "      <td>55255,17080,59459,27583</td>\n",
       "    </tr>\n",
       "    <tr>\n",
       "      <th>7699</th>\n",
       "      <td>In South Park, what alter ego does Butters ado...</td>\n",
       "      <td>10967</td>\n",
       "    </tr>\n",
       "    <tr>\n",
       "      <th>7700</th>\n",
       "      <td>The Canadian Postal Code H0H 0H0 is reserved s...</td>\n",
       "      <td>52451</td>\n",
       "    </tr>\n",
       "  </tbody>\n",
       "</table>\n",
       "<p>7701 rows × 2 columns</p>\n",
       "</div>"
      ],
      "text/plain": [
       "                                                  query  \\\n",
       "0     Asmara international airport is in which country?   \n",
       "1     At whose concert were 11 people trampled to de...   \n",
       "2     Andy Warhol/'s 60s exhibition featured cans of...   \n",
       "3     San Giusto international airport is in which c...   \n",
       "4                Who had a 60s No 1 with Travelin' Man?   \n",
       "...                                                 ...   \n",
       "7696  December 15, 1773 saw The Sons of Liberty boar...   \n",
       "7697    The Decepticons are the mortal enemies of whom?   \n",
       "7698  Next appearing locally in 2013, the Richard Wa...   \n",
       "7699  In South Park, what alter ego does Butters ado...   \n",
       "7700  The Canadian Postal Code H0H 0H0 is reserved s...   \n",
       "\n",
       "                        docid  \n",
       "0                        5749  \n",
       "1                 48292,66780  \n",
       "2                        4371  \n",
       "3                       51591  \n",
       "4                   456,68539  \n",
       "...                       ...  \n",
       "7696                    57457  \n",
       "7697                    17567  \n",
       "7698  55255,17080,59459,27583  \n",
       "7699                    10967  \n",
       "7700                    52451  \n",
       "\n",
       "[7701 rows x 2 columns]"
      ]
     },
     "execution_count": 8,
     "metadata": {},
     "output_type": "execute_result"
    }
   ],
   "source": [
    "df_test = pd.read_csv('trivia_qa_test.csv',\n",
    "                        names=[\"query\", \"docid\"],\n",
    "                        encoding='utf-8', header=None, sep='\\t').loc[:, ['query', 'docid']]\n",
    "df_test"
   ]
  },
  {
   "cell_type": "code",
   "execution_count": 17,
   "id": "0c70921b",
   "metadata": {},
   "outputs": [
    {
     "data": {
      "text/html": [
       "<div>\n",
       "<style scoped>\n",
       "    .dataframe tbody tr th:only-of-type {\n",
       "        vertical-align: middle;\n",
       "    }\n",
       "\n",
       "    .dataframe tbody tr th {\n",
       "        vertical-align: top;\n",
       "    }\n",
       "\n",
       "    .dataframe thead th {\n",
       "        text-align: right;\n",
       "    }\n",
       "</style>\n",
       "<table border=\"1\" class=\"dataframe\">\n",
       "  <thead>\n",
       "    <tr style=\"text-align: right;\">\n",
       "      <th></th>\n",
       "      <th>docid</th>\n",
       "      <th>title</th>\n",
       "      <th>content</th>\n",
       "    </tr>\n",
       "  </thead>\n",
       "  <tbody>\n",
       "    <tr>\n",
       "      <th>0</th>\n",
       "      <td>0</td>\n",
       "      <td>Crocodile Dundee</td>\n",
       "      <td>Crocodile Dundee is a 1986 Australian comedy f...</td>\n",
       "    </tr>\n",
       "    <tr>\n",
       "      <th>1</th>\n",
       "      <td>1</td>\n",
       "      <td>Heroes (David Bowie song)</td>\n",
       "      <td>Heroes\"\" is a song by English musician David B...</td>\n",
       "    </tr>\n",
       "    <tr>\n",
       "      <th>2</th>\n",
       "      <td>2</td>\n",
       "      <td>Weird Al Yankovic</td>\n",
       "      <td>Alfred Matthew \"Weird Al\" Yankovic ( ; born Oc...</td>\n",
       "    </tr>\n",
       "    <tr>\n",
       "      <th>3</th>\n",
       "      <td>3</td>\n",
       "      <td>Wild Bill Hickok</td>\n",
       "      <td>James Butler \"Wild Bill\" Hickok (May 27, 1837 ...</td>\n",
       "    </tr>\n",
       "    <tr>\n",
       "      <th>4</th>\n",
       "      <td>4</td>\n",
       "      <td>'Allo 'Allo!</td>\n",
       "      <td>Allo Allo! is a BBC television British sitcom ...</td>\n",
       "    </tr>\n",
       "    <tr>\n",
       "      <th>...</th>\n",
       "      <td>...</td>\n",
       "      <td>...</td>\n",
       "      <td>...</td>\n",
       "    </tr>\n",
       "    <tr>\n",
       "      <th>73965</th>\n",
       "      <td>73965</td>\n",
       "      <td>Škoda Roomster</td>\n",
       "      <td>The Škoda Roomster (Type 5J) is a MPV-styled l...</td>\n",
       "    </tr>\n",
       "    <tr>\n",
       "      <th>73966</th>\n",
       "      <td>73966</td>\n",
       "      <td>Škoda Superb</td>\n",
       "      <td>The current Škoda Superb is a large family car...</td>\n",
       "    </tr>\n",
       "    <tr>\n",
       "      <th>73967</th>\n",
       "      <td>73967</td>\n",
       "      <td>Škoda Yeti</td>\n",
       "      <td>The Škoda Yeti (codenamed Typ 5L)ETKA, accesse...</td>\n",
       "    </tr>\n",
       "    <tr>\n",
       "      <th>73968</th>\n",
       "      <td>73968</td>\n",
       "      <td>’O sole mio</td>\n",
       "      <td>is a globally known Neapolitan song written i...</td>\n",
       "    </tr>\n",
       "    <tr>\n",
       "      <th>73969</th>\n",
       "      <td>73969</td>\n",
       "      <td>…Very 'Eavy …Very 'Umble</td>\n",
       "      <td>…Very 'Eavy …Very 'Umble is the debut album by...</td>\n",
       "    </tr>\n",
       "  </tbody>\n",
       "</table>\n",
       "<p>73970 rows × 3 columns</p>\n",
       "</div>"
      ],
      "text/plain": [
       "       docid                      title  \\\n",
       "0          0           Crocodile Dundee   \n",
       "1          1  Heroes (David Bowie song)   \n",
       "2          2          Weird Al Yankovic   \n",
       "3          3           Wild Bill Hickok   \n",
       "4          4               'Allo 'Allo!   \n",
       "...      ...                        ...   \n",
       "73965  73965             Škoda Roomster   \n",
       "73966  73966               Škoda Superb   \n",
       "73967  73967                 Škoda Yeti   \n",
       "73968  73968                ’O sole mio   \n",
       "73969  73969   …Very 'Eavy …Very 'Umble   \n",
       "\n",
       "                                                 content  \n",
       "0      Crocodile Dundee is a 1986 Australian comedy f...  \n",
       "1      Heroes\"\" is a song by English musician David B...  \n",
       "2      Alfred Matthew \"Weird Al\" Yankovic ( ; born Oc...  \n",
       "3      James Butler \"Wild Bill\" Hickok (May 27, 1837 ...  \n",
       "4      Allo Allo! is a BBC television British sitcom ...  \n",
       "...                                                  ...  \n",
       "73965  The Škoda Roomster (Type 5J) is a MPV-styled l...  \n",
       "73966  The current Škoda Superb is a large family car...  \n",
       "73967  The Škoda Yeti (codenamed Typ 5L)ETKA, accesse...  \n",
       "73968   is a globally known Neapolitan song written i...  \n",
       "73969  …Very 'Eavy …Very 'Umble is the debut album by...  \n",
       "\n",
       "[73970 rows x 3 columns]"
      ]
     },
     "execution_count": 17,
     "metadata": {},
     "output_type": "execute_result"
    }
   ],
   "source": [
    "df_full = pd.read_csv('trivia_qa_fulldoc.csv',\n",
    "                         names=[\"docid\", \"title\", \"content\"],\n",
    "                        encoding='utf-8', header=None, sep='\\t')\n",
    "df_full"
   ]
  },
  {
   "cell_type": "code",
   "execution_count": 21,
   "id": "e19d2f3d",
   "metadata": {},
   "outputs": [],
   "source": [
    "df_full['title'] = df_full['title'].map(lower)\n",
    "df_drop_title = df_full.drop_duplicates('title').reset_index(drop=True) "
   ]
  },
  {
   "cell_type": "code",
   "execution_count": 22,
   "id": "27f0c8bb",
   "metadata": {
    "scrolled": false
   },
   "outputs": [
    {
     "data": {
      "text/html": [
       "<div>\n",
       "<style scoped>\n",
       "    .dataframe tbody tr th:only-of-type {\n",
       "        vertical-align: middle;\n",
       "    }\n",
       "\n",
       "    .dataframe tbody tr th {\n",
       "        vertical-align: top;\n",
       "    }\n",
       "\n",
       "    .dataframe thead th {\n",
       "        text-align: right;\n",
       "    }\n",
       "</style>\n",
       "<table border=\"1\" class=\"dataframe\">\n",
       "  <thead>\n",
       "    <tr style=\"text-align: right;\">\n",
       "      <th></th>\n",
       "      <th>docid</th>\n",
       "      <th>title</th>\n",
       "      <th>content</th>\n",
       "    </tr>\n",
       "  </thead>\n",
       "  <tbody>\n",
       "    <tr>\n",
       "      <th>0</th>\n",
       "      <td>0</td>\n",
       "      <td>crocodile dundee</td>\n",
       "      <td>Crocodile Dundee is a 1986 Australian comedy f...</td>\n",
       "    </tr>\n",
       "    <tr>\n",
       "      <th>1</th>\n",
       "      <td>1</td>\n",
       "      <td>heroes ( david bowie song )</td>\n",
       "      <td>Heroes\"\" is a song by English musician David B...</td>\n",
       "    </tr>\n",
       "    <tr>\n",
       "      <th>2</th>\n",
       "      <td>2</td>\n",
       "      <td>weird al yankovic</td>\n",
       "      <td>Alfred Matthew \"Weird Al\" Yankovic ( ; born Oc...</td>\n",
       "    </tr>\n",
       "    <tr>\n",
       "      <th>3</th>\n",
       "      <td>3</td>\n",
       "      <td>wild bill hickok</td>\n",
       "      <td>James Butler \"Wild Bill\" Hickok (May 27, 1837 ...</td>\n",
       "    </tr>\n",
       "    <tr>\n",
       "      <th>4</th>\n",
       "      <td>4</td>\n",
       "      <td>' allo'allo!</td>\n",
       "      <td>Allo Allo! is a BBC television British sitcom ...</td>\n",
       "    </tr>\n",
       "    <tr>\n",
       "      <th>...</th>\n",
       "      <td>...</td>\n",
       "      <td>...</td>\n",
       "      <td>...</td>\n",
       "    </tr>\n",
       "    <tr>\n",
       "      <th>73912</th>\n",
       "      <td>73965</td>\n",
       "      <td>skoda roomster</td>\n",
       "      <td>The Škoda Roomster (Type 5J) is a MPV-styled l...</td>\n",
       "    </tr>\n",
       "    <tr>\n",
       "      <th>73913</th>\n",
       "      <td>73966</td>\n",
       "      <td>skoda superb</td>\n",
       "      <td>The current Škoda Superb is a large family car...</td>\n",
       "    </tr>\n",
       "    <tr>\n",
       "      <th>73914</th>\n",
       "      <td>73967</td>\n",
       "      <td>skoda yeti</td>\n",
       "      <td>The Škoda Yeti (codenamed Typ 5L)ETKA, accesse...</td>\n",
       "    </tr>\n",
       "    <tr>\n",
       "      <th>73915</th>\n",
       "      <td>73968</td>\n",
       "      <td>’ o sole mio</td>\n",
       "      <td>is a globally known Neapolitan song written i...</td>\n",
       "    </tr>\n",
       "    <tr>\n",
       "      <th>73916</th>\n",
       "      <td>73969</td>\n",
       "      <td>… very'eavy … very'umble</td>\n",
       "      <td>…Very 'Eavy …Very 'Umble is the debut album by...</td>\n",
       "    </tr>\n",
       "  </tbody>\n",
       "</table>\n",
       "<p>73917 rows × 3 columns</p>\n",
       "</div>"
      ],
      "text/plain": [
       "       docid                        title  \\\n",
       "0          0             crocodile dundee   \n",
       "1          1  heroes ( david bowie song )   \n",
       "2          2            weird al yankovic   \n",
       "3          3             wild bill hickok   \n",
       "4          4                 ' allo'allo!   \n",
       "...      ...                          ...   \n",
       "73912  73965               skoda roomster   \n",
       "73913  73966                 skoda superb   \n",
       "73914  73967                   skoda yeti   \n",
       "73915  73968                 ’ o sole mio   \n",
       "73916  73969     … very'eavy … very'umble   \n",
       "\n",
       "                                                 content  \n",
       "0      Crocodile Dundee is a 1986 Australian comedy f...  \n",
       "1      Heroes\"\" is a song by English musician David B...  \n",
       "2      Alfred Matthew \"Weird Al\" Yankovic ( ; born Oc...  \n",
       "3      James Butler \"Wild Bill\" Hickok (May 27, 1837 ...  \n",
       "4      Allo Allo! is a BBC television British sitcom ...  \n",
       "...                                                  ...  \n",
       "73912  The Škoda Roomster (Type 5J) is a MPV-styled l...  \n",
       "73913  The current Škoda Superb is a large family car...  \n",
       "73914  The Škoda Yeti (codenamed Typ 5L)ETKA, accesse...  \n",
       "73915   is a globally known Neapolitan song written i...  \n",
       "73916  …Very 'Eavy …Very 'Umble is the debut album by...  \n",
       "\n",
       "[73917 rows x 3 columns]"
      ]
     },
     "execution_count": 22,
     "metadata": {},
     "output_type": "execute_result"
    }
   ],
   "source": [
    "df_drop_title"
   ]
  },
  {
   "cell_type": "code",
   "execution_count": 23,
   "id": "84d51a51",
   "metadata": {
    "scrolled": true
   },
   "outputs": [
    {
     "name": "stderr",
     "output_type": "stream",
     "text": [
      "100%|██████████| 73917/73917 [00:00<00:00, 236845.20it/s]\n",
      "100%|██████████| 73970/73970 [00:00<00:00, 119021.15it/s]\n"
     ]
    }
   ],
   "source": [
    "title_doc_id = {}\n",
    "for i in trange(len(df_drop_title)):\n",
    "    title_doc_id[df_drop_title['title'][i]] = i\n",
    "\n",
    "origin_new_id = {}\n",
    "for i in trange(len(df_full)):\n",
    "    origin_new_id[df_full['docid'][i]] = title_doc_id[df_full['title'][i]]"
   ]
  },
  {
   "cell_type": "code",
   "execution_count": null,
   "id": "740ca274",
   "metadata": {},
   "outputs": [],
   "source": [
    "## doc pool"
   ]
  },
  {
   "cell_type": "code",
   "execution_count": 59,
   "id": "ca419aba",
   "metadata": {},
   "outputs": [
    {
     "data": {
      "text/html": [
       "<div>\n",
       "<style scoped>\n",
       "    .dataframe tbody tr th:only-of-type {\n",
       "        vertical-align: middle;\n",
       "    }\n",
       "\n",
       "    .dataframe tbody tr th {\n",
       "        vertical-align: top;\n",
       "    }\n",
       "\n",
       "    .dataframe thead th {\n",
       "        text-align: right;\n",
       "    }\n",
       "</style>\n",
       "<table border=\"1\" class=\"dataframe\">\n",
       "  <thead>\n",
       "    <tr style=\"text-align: right;\">\n",
       "      <th></th>\n",
       "      <th>docid</th>\n",
       "      <th>title</th>\n",
       "      <th>content</th>\n",
       "    </tr>\n",
       "  </thead>\n",
       "  <tbody>\n",
       "    <tr>\n",
       "      <th>0</th>\n",
       "      <td>0</td>\n",
       "      <td>crocodile dundee</td>\n",
       "      <td>Crocodile Dundee is a 1986 Australian comedy f...</td>\n",
       "    </tr>\n",
       "    <tr>\n",
       "      <th>1</th>\n",
       "      <td>1</td>\n",
       "      <td>heroes ( david bowie song )</td>\n",
       "      <td>Heroes\"\" is a song by English musician David B...</td>\n",
       "    </tr>\n",
       "    <tr>\n",
       "      <th>2</th>\n",
       "      <td>2</td>\n",
       "      <td>weird al yankovic</td>\n",
       "      <td>Alfred Matthew \"Weird Al\" Yankovic ( ; born Oc...</td>\n",
       "    </tr>\n",
       "    <tr>\n",
       "      <th>3</th>\n",
       "      <td>3</td>\n",
       "      <td>wild bill hickok</td>\n",
       "      <td>James Butler \"Wild Bill\" Hickok (May 27, 1837 ...</td>\n",
       "    </tr>\n",
       "    <tr>\n",
       "      <th>4</th>\n",
       "      <td>4</td>\n",
       "      <td>' allo'allo!</td>\n",
       "      <td>Allo Allo! is a BBC television British sitcom ...</td>\n",
       "    </tr>\n",
       "    <tr>\n",
       "      <th>...</th>\n",
       "      <td>...</td>\n",
       "      <td>...</td>\n",
       "      <td>...</td>\n",
       "    </tr>\n",
       "    <tr>\n",
       "      <th>73912</th>\n",
       "      <td>73965</td>\n",
       "      <td>skoda roomster</td>\n",
       "      <td>The Škoda Roomster (Type 5J) is a MPV-styled l...</td>\n",
       "    </tr>\n",
       "    <tr>\n",
       "      <th>73913</th>\n",
       "      <td>73966</td>\n",
       "      <td>skoda superb</td>\n",
       "      <td>The current Škoda Superb is a large family car...</td>\n",
       "    </tr>\n",
       "    <tr>\n",
       "      <th>73914</th>\n",
       "      <td>73967</td>\n",
       "      <td>skoda yeti</td>\n",
       "      <td>The Škoda Yeti (codenamed Typ 5L)ETKA, accesse...</td>\n",
       "    </tr>\n",
       "    <tr>\n",
       "      <th>73915</th>\n",
       "      <td>73968</td>\n",
       "      <td>’ o sole mio</td>\n",
       "      <td>is a globally known Neapolitan song written i...</td>\n",
       "    </tr>\n",
       "    <tr>\n",
       "      <th>73916</th>\n",
       "      <td>73969</td>\n",
       "      <td>… very'eavy … very'umble</td>\n",
       "      <td>…Very 'Eavy …Very 'Umble is the debut album by...</td>\n",
       "    </tr>\n",
       "  </tbody>\n",
       "</table>\n",
       "<p>73917 rows × 3 columns</p>\n",
       "</div>"
      ],
      "text/plain": [
       "       docid                        title  \\\n",
       "0          0             crocodile dundee   \n",
       "1          1  heroes ( david bowie song )   \n",
       "2          2            weird al yankovic   \n",
       "3          3             wild bill hickok   \n",
       "4          4                 ' allo'allo!   \n",
       "...      ...                          ...   \n",
       "73912  73965               skoda roomster   \n",
       "73913  73966                 skoda superb   \n",
       "73914  73967                   skoda yeti   \n",
       "73915  73968                 ’ o sole mio   \n",
       "73916  73969     … very'eavy … very'umble   \n",
       "\n",
       "                                                 content  \n",
       "0      Crocodile Dundee is a 1986 Australian comedy f...  \n",
       "1      Heroes\"\" is a song by English musician David B...  \n",
       "2      Alfred Matthew \"Weird Al\" Yankovic ( ; born Oc...  \n",
       "3      James Butler \"Wild Bill\" Hickok (May 27, 1837 ...  \n",
       "4      Allo Allo! is a BBC television British sitcom ...  \n",
       "...                                                  ...  \n",
       "73912  The Škoda Roomster (Type 5J) is a MPV-styled l...  \n",
       "73913  The current Škoda Superb is a large family car...  \n",
       "73914  The Škoda Yeti (codenamed Typ 5L)ETKA, accesse...  \n",
       "73915   is a globally known Neapolitan song written i...  \n",
       "73916  …Very 'Eavy …Very 'Umble is the debut album by...  \n",
       "\n",
       "[73917 rows x 3 columns]"
      ]
     },
     "execution_count": 59,
     "metadata": {},
     "output_type": "execute_result"
    }
   ],
   "source": [
    "df_drop_title"
   ]
  },
  {
   "cell_type": "code",
   "execution_count": 60,
   "id": "b2e35d84",
   "metadata": {
    "scrolled": true
   },
   "outputs": [
    {
     "name": "stderr",
     "output_type": "stream",
     "text": [
      "100%|██████████| 73917/73917 [00:11<00:00, 6685.29it/s]\n"
     ]
    }
   ],
   "source": [
    "file_pool = open(\"Trivia_doc_content.tsv\", 'w') \n",
    "\n",
    "for i in trange(len(df_drop_title)):\n",
    "    file_pool.write('\\t'.join([str(df_drop_title['docid'][i]), str(origin_new_id[df_drop_title['docid'][i]]), str(df_drop_title['title'][i]), str(df_drop_title['content'][i]), str(df_drop_title['title'][i]) + str(df_drop_title['content'][i])]) + '\\n')\n",
    "    file_pool.flush()"
   ]
  },
  {
   "cell_type": "markdown",
   "id": "e986362b",
   "metadata": {},
   "source": [
    "## Generate BERT embeddings for each document"
   ]
  },
  {
   "cell_type": "code",
   "execution_count": 1,
   "id": "37250666",
   "metadata": {},
   "outputs": [],
   "source": [
    "GPU_NUM = 8"
   ]
  },
  {
   "cell_type": "code",
   "execution_count": 59,
   "id": "64579c77",
   "metadata": {},
   "outputs": [],
   "source": [
    "## Execute the following command to get bert embedding pkl file\n",
    "## NEED 8 GPU\n",
    "!./bert/Trivia_bert.sh"
   ]
  },
  {
   "cell_type": "code",
   "execution_count": 23,
   "id": "3e0671f5",
   "metadata": {
    "scrolled": true
   },
   "outputs": [
    {
     "name": "stderr",
     "output_type": "stream",
     "text": [
      "100%|██████████| 8/8 [00:08<00:00,  1.02s/it]\n"
     ]
    }
   ],
   "source": [
    "output_bert_base_tensor = []\n",
    "output_bert_base_id_tensor = []\n",
    "for num in trange(GPU_NUM):\n",
    "    with open(f'bert/pkl/Trivia_outpt_tensor_512_content_{num}.pkl', 'rb') as f:\n",
    "        data = pickle.load(f)\n",
    "    f.close()\n",
    "    output_bert_base_tensor.extend(data)\n",
    "\n",
    "    with open(f'bert/pkl/Trivia_outpt_tensor_512_content_{num}_id.pkl', 'rb') as f:\n",
    "        data = pickle.load(f)\n",
    "    f.close()\n",
    "    output_bert_base_id_tensor.extend(data)\n",
    "\n",
    "\n",
    "train_file = open(f\"bert/Trivia_doc_content_embedding_bert_512.tsv\", 'w') \n",
    "\n",
    "for idx, doc_tensor in enumerate(output_bert_base_tensor):\n",
    "    embedding = '|'.join([str(elem) for elem in doc_tensor])\n",
    "    train_file.write('\\t'.join([str(output_bert_base_id_tensor[idx]), '', '', '', '', '', 'en', embedding]) + '\\n')\n",
    "    train_file.flush()"
   ]
  },
  {
   "cell_type": "markdown",
   "id": "b367c05a",
   "metadata": {},
   "source": [
    "## Apply Hierarchical K-Means on it to generate semantic IDs"
   ]
  },
  {
   "cell_type": "code",
   "execution_count": 24,
   "id": "a3f815d1",
   "metadata": {},
   "outputs": [],
   "source": [
    "## Execute the following command to get kmeans id of the documents\n",
    "## NEED 8 GPU\n",
    "!./kmeans/kmeans_Trivia.sh"
   ]
  },
  {
   "cell_type": "code",
   "execution_count": 6,
   "id": "2ae25738",
   "metadata": {},
   "outputs": [],
   "source": [
    "with open('kmeans/IDMapping_Trivia_bert_512_k30_c30_seed_7.pkl', 'rb') as f:\n",
    "    kmeans_trivia_doc_dict = pickle.load(f)\n",
    "## random id : newid\n",
    "new_kmeans_trivia_doc_dict_512 = {}\n",
    "for old_docid in kmeans_trivia_doc_dict.keys():\n",
    "    new_kmeans_trivia_doc_dict_512[str(old_docid)] = '-'.join(str(elem) for elem in kmeans_trivia_doc_dict[old_docid])\n",
    "\n",
    "new_kmeans_trivia_doc_dict_512_int_key = {}\n",
    "for key in new_kmeans_trivia_doc_dict_512:\n",
    "    new_kmeans_trivia_doc_dict_512_int_key[int(key)] = new_kmeans_trivia_doc_dict_512[key]"
   ]
  },
  {
   "cell_type": "markdown",
   "id": "f1f03704",
   "metadata": {},
   "source": [
    "## Query Generation"
   ]
  },
  {
   "cell_type": "markdown",
   "id": "b1e1b7d1",
   "metadata": {},
   "source": [
    "#### Download docT5query to './qg/' from https://huggingface.co/castorini/doc2query-t5-base-msmarco, like './qg/doc2query-t5-base-msmarco/'"
   ]
  },
  {
   "cell_type": "code",
   "execution_count": null,
   "id": "1e6f695b",
   "metadata": {},
   "outputs": [],
   "source": [
    "## Execute the following command to generate queries for the documents\n",
    "## NEED 8 GPU\n",
    "!./qg/Trivia_qg.sh"
   ]
  },
  {
   "cell_type": "code",
   "execution_count": 28,
   "id": "9fbe1072",
   "metadata": {},
   "outputs": [
    {
     "name": "stderr",
     "output_type": "stream",
     "text": [
      "100%|██████████| 8/8 [00:00<00:00, 48.45it/s]\n"
     ]
    }
   ],
   "source": [
    "## merge parallel results\n",
    "output_bert_base_tensor_qg = []\n",
    "output_bert_base_id_tensor_qg = []\n",
    "for num in trange(GPU_NUM):\n",
    "    with open(f'qg/pkl/Trivia_outpt_tensor_512_content_64_15_{num}.pkl', 'rb') as f:\n",
    "        data = pickle.load(f)\n",
    "    f.close()\n",
    "    output_bert_base_tensor_qg.extend(data)\n",
    "\n",
    "    with open(f'qg/pkl/Trivia_outpt_tensor_512_content_64_15_{num}_id.pkl', 'rb') as f:\n",
    "        data = pickle.load(f)\n",
    "    f.close()\n",
    "    output_bert_base_id_tensor_qg.extend(data)"
   ]
  },
  {
   "cell_type": "code",
   "execution_count": 29,
   "id": "086a2735",
   "metadata": {},
   "outputs": [
    {
     "name": "stderr",
     "output_type": "stream",
     "text": [
      "100%|██████████| 1108755/1108755 [00:00<00:00, 2191365.98it/s]\n"
     ]
    }
   ],
   "source": [
    "qg_dict = {}\n",
    "for i in trange(len(output_bert_base_tensor_qg)):\n",
    "    if(output_bert_base_id_tensor_qg[i] not in qg_dict):\n",
    "        qg_dict[output_bert_base_id_tensor_qg[i]] = [output_bert_base_tensor_qg[i]]\n",
    "    else:\n",
    "        qg_dict[output_bert_base_id_tensor_qg[i]].append(output_bert_base_tensor_qg[i])"
   ]
  },
  {
   "cell_type": "markdown",
   "id": "08e716ea",
   "metadata": {},
   "source": [
    "## Genarate training data"
   ]
  },
  {
   "cell_type": "code",
   "execution_count": 31,
   "id": "b32da935",
   "metadata": {
    "scrolled": false
   },
   "outputs": [
    {
     "name": "stderr",
     "output_type": "stream",
     "text": [
      "100%|██████████| 61888/61888 [00:01<00:00, 37774.79it/s]\n",
      "100%|██████████| 61888/61888 [00:05<00:00, 11848.73it/s]\n"
     ]
    }
   ],
   "source": [
    "train_query_docid = {}\n",
    "for i in trange(len(df_train)):\n",
    "    if(len(df_train['query'][i].split('\\n')) == 1):\n",
    "        train_query_docid[df_train['query'][i]] = [int(elem) for elem in df_train['docid'][i].split(',')]\n",
    "\n",
    "file_train = open(\"train.tsv\", 'w')\n",
    "\n",
    "count = 0\n",
    "for query in tqdm(train_query_docid.keys()):\n",
    "    for i in range(len(train_query_docid[query])):\n",
    "        id_ori = train_query_docid[query][i]\n",
    "        new_id = origin_new_id[id_ori]\n",
    "        file_train.write('\\t'.join([query, str(id_ori), str(new_id), new_kmeans_trivia_doc_dict_512_int_key[int(new_id)]]) + '\\n')\n",
    "        file_train.flush()"
   ]
  },
  {
   "cell_type": "code",
   "execution_count": 11,
   "id": "03916194",
   "metadata": {},
   "outputs": [
    {
     "data": {
      "text/plain": [
       "[30198]"
      ]
     },
     "execution_count": 11,
     "metadata": {},
     "output_type": "execute_result"
    }
   ],
   "source": [
    "val_query_docid[df_val['query'][i]]"
   ]
  },
  {
   "cell_type": "code",
   "execution_count": 30,
   "id": "f2f2db8f",
   "metadata": {},
   "outputs": [
    {
     "name": "stderr",
     "output_type": "stream",
     "text": [
      "100%|██████████| 7993/7993 [00:00<00:00, 74024.43it/s]\n",
      "100%|██████████| 7993/7993 [00:00<00:00, 20740.57it/s]\n"
     ]
    }
   ],
   "source": [
    "val_query_docid = {}\n",
    "for i in trange(len(df_val)):\n",
    "    if(len(df_val['query'][i].split('\\n')) == 1):\n",
    "        val_query_docid[df_val['query'][i]] = [int(elem) for elem in df_val['docid'][i].split(',')]\n",
    "\n",
    "file_val = open(\"dev.tsv\", 'w')\n",
    "\n",
    "count = 0\n",
    "for query in tqdm(val_query_docid.keys()):\n",
    "    id_ori_ = []\n",
    "    new_id_ = []\n",
    "    kmeans_ = []\n",
    "    for i in range(len(val_query_docid[query])):\n",
    "        id_ori = str(val_query_docid[query][i])\n",
    "        new_id = str(origin_new_id[int(id_ori)])\n",
    "        id_ori_.append(id_ori)\n",
    "        new_id_.append(new_id)\n",
    "        kmeans_.append(new_kmeans_trivia_doc_dict_512_int_key[int(new_id)])\n",
    "    \n",
    "    id_ori_ = ','.join(id_ori_)\n",
    "    new_id_ = ','.join(new_id_)\n",
    "    kmeans_ = ','.join(kmeans_)\n",
    "    \n",
    "    file_val.write('\\t'.join([query, str(id_ori_), str(new_id_), kmeans_]) + '\\n')\n",
    "    file_val.flush()"
   ]
  },
  {
   "cell_type": "code",
   "execution_count": 29,
   "id": "351416a9",
   "metadata": {},
   "outputs": [
    {
     "data": {
      "text/plain": [
       "'6-29-3-1'"
      ]
     },
     "execution_count": 29,
     "metadata": {},
     "output_type": "execute_result"
    }
   ],
   "source": [
    "kmeans_"
   ]
  },
  {
   "cell_type": "code",
   "execution_count": 31,
   "id": "377de8b6",
   "metadata": {},
   "outputs": [
    {
     "name": "stderr",
     "output_type": "stream",
     "text": [
      "100%|██████████| 7701/7701 [00:00<00:00, 75884.73it/s]\n",
      "100%|██████████| 7701/7701 [00:00<00:00, 22174.56it/s]\n"
     ]
    }
   ],
   "source": [
    "test_query_docid = {}\n",
    "for i in trange(len(df_test)):\n",
    "    if(len(df_test['query'][i].split('\\n')) == 1):\n",
    "        test_query_docid[df_val['query'][i]] = [int(elem) for elem in df_test['docid'][i].split(',')]\n",
    "\n",
    "file_test = open(\"test.tsv\", 'w')\n",
    "\n",
    "count = 0\n",
    "for query in tqdm(test_query_docid.keys()):\n",
    "    id_ori_ = []\n",
    "    new_id_ = []\n",
    "    kmeans_ = []\n",
    "    for i in range(len(test_query_docid[query])):\n",
    "        id_ori = str(test_query_docid[query][i])\n",
    "        new_id = str(origin_new_id[int(id_ori)])\n",
    "        id_ori_.append(id_ori)\n",
    "        new_id_.append(new_id)\n",
    "        kmeans_.append(new_kmeans_trivia_doc_dict_512_int_key[int(new_id)])\n",
    "    \n",
    "    id_ori_ = ','.join(id_ori_)\n",
    "    new_id_ = ','.join(new_id_)\n",
    "    kmeans_ = ','.join(kmeans_)\n",
    "    \n",
    "    file_test.write('\\t'.join([query, str(id_ori_), str(new_id_), kmeans_]) + '\\n')\n",
    "    file_test.flush()"
   ]
  },
  {
   "cell_type": "code",
   "execution_count": null,
   "id": "b532b48e",
   "metadata": {},
   "outputs": [],
   "source": [
    "QG_NUM = 15"
   ]
  },
  {
   "cell_type": "code",
   "execution_count": 37,
   "id": "b4b92402",
   "metadata": {
    "scrolled": true
   },
   "outputs": [
    {
     "name": "stderr",
     "output_type": "stream",
     "text": [
      "100%|██████████| 73917/73917 [00:47<00:00, 1549.99it/s]\n"
     ]
    }
   ],
   "source": [
    "qg_file = open(\"trivia_512_qg.tsv\", 'w') \n",
    "\n",
    "for queryid in tqdm(qg_dict):\n",
    "    for query in qg_dict[queryid][:QG_NUM]:\n",
    "        qg_file.write('\\t'.join([query, queryid, new_kmeans_trivia_doc_dict_512_int_key[int(queryid)]]) + '\\n')\n",
    "        qg_file.flush()"
   ]
  },
  {
   "cell_type": "code",
   "execution_count": 52,
   "id": "b76cef98",
   "metadata": {},
   "outputs": [],
   "source": [
    "df_drop_title['new_id'] = df_drop_title['docid'].map(origin_new_id)\n",
    "\n",
    "df_drop_title['kmeas_id'] = df_drop_title['new_id'].map(new_kmeans_trivia_doc_dict_512_int_key)\n",
    "\n",
    "\n",
    "df_drop_title['tc'] = df_drop_title['title'] + ' ' + df_drop_title['content']\n",
    "\n",
    "df_drop_title_ = df_drop_title.loc[:, ['tc', 'docid', 'new_id', 'kmeas_id']]  \n",
    "\n",
    "df_drop_title_.to_csv('trivia_title_cont.tsv', sep='\\t', header=None, index=False, encoding='utf-8')"
   ]
  },
  {
   "cell_type": "code",
   "execution_count": 53,
   "id": "04795876",
   "metadata": {},
   "outputs": [
    {
     "data": {
      "text/html": [
       "<div>\n",
       "<style scoped>\n",
       "    .dataframe tbody tr th:only-of-type {\n",
       "        vertical-align: middle;\n",
       "    }\n",
       "\n",
       "    .dataframe tbody tr th {\n",
       "        vertical-align: top;\n",
       "    }\n",
       "\n",
       "    .dataframe thead th {\n",
       "        text-align: right;\n",
       "    }\n",
       "</style>\n",
       "<table border=\"1\" class=\"dataframe\">\n",
       "  <thead>\n",
       "    <tr style=\"text-align: right;\">\n",
       "      <th></th>\n",
       "      <th>tc</th>\n",
       "      <th>docid</th>\n",
       "      <th>new_id</th>\n",
       "      <th>kmeas_id</th>\n",
       "    </tr>\n",
       "  </thead>\n",
       "  <tbody>\n",
       "    <tr>\n",
       "      <th>0</th>\n",
       "      <td>crocodile dundee Crocodile Dundee is a 1986 Au...</td>\n",
       "      <td>0</td>\n",
       "      <td>0</td>\n",
       "      <td>11-23-23</td>\n",
       "    </tr>\n",
       "    <tr>\n",
       "      <th>1</th>\n",
       "      <td>heroes ( david bowie song ) Heroes\"\" is a song...</td>\n",
       "      <td>1</td>\n",
       "      <td>1</td>\n",
       "      <td>29-6-25-0</td>\n",
       "    </tr>\n",
       "    <tr>\n",
       "      <th>2</th>\n",
       "      <td>weird al yankovic Alfred Matthew \"Weird Al\" Ya...</td>\n",
       "      <td>2</td>\n",
       "      <td>2</td>\n",
       "      <td>24-12-4-0</td>\n",
       "    </tr>\n",
       "    <tr>\n",
       "      <th>3</th>\n",
       "      <td>wild bill hickok James Butler \"Wild Bill\" Hick...</td>\n",
       "      <td>3</td>\n",
       "      <td>3</td>\n",
       "      <td>3-6-21-0</td>\n",
       "    </tr>\n",
       "    <tr>\n",
       "      <th>4</th>\n",
       "      <td>' allo'allo! Allo Allo! is a BBC television Br...</td>\n",
       "      <td>4</td>\n",
       "      <td>4</td>\n",
       "      <td>26-19-15-0</td>\n",
       "    </tr>\n",
       "    <tr>\n",
       "      <th>...</th>\n",
       "      <td>...</td>\n",
       "      <td>...</td>\n",
       "      <td>...</td>\n",
       "      <td>...</td>\n",
       "    </tr>\n",
       "    <tr>\n",
       "      <th>73912</th>\n",
       "      <td>skoda roomster The Škoda Roomster (Type 5J) is...</td>\n",
       "      <td>73965</td>\n",
       "      <td>73912</td>\n",
       "      <td>13-20-10-2</td>\n",
       "    </tr>\n",
       "    <tr>\n",
       "      <th>73913</th>\n",
       "      <td>skoda superb The current Škoda Superb is a lar...</td>\n",
       "      <td>73966</td>\n",
       "      <td>73913</td>\n",
       "      <td>13-20-4-7</td>\n",
       "    </tr>\n",
       "    <tr>\n",
       "      <th>73914</th>\n",
       "      <td>skoda yeti The Škoda Yeti (codenamed Typ 5L)ET...</td>\n",
       "      <td>73967</td>\n",
       "      <td>73914</td>\n",
       "      <td>13-20-10-3</td>\n",
       "    </tr>\n",
       "    <tr>\n",
       "      <th>73915</th>\n",
       "      <td>’ o sole mio  is a globally known Neapolitan s...</td>\n",
       "      <td>73968</td>\n",
       "      <td>73915</td>\n",
       "      <td>29-12-2-8</td>\n",
       "    </tr>\n",
       "    <tr>\n",
       "      <th>73916</th>\n",
       "      <td>… very'eavy … very'umble …Very 'Eavy …Very 'Um...</td>\n",
       "      <td>73969</td>\n",
       "      <td>73916</td>\n",
       "      <td>9-26-16</td>\n",
       "    </tr>\n",
       "  </tbody>\n",
       "</table>\n",
       "<p>73917 rows × 4 columns</p>\n",
       "</div>"
      ],
      "text/plain": [
       "                                                      tc  docid  new_id  \\\n",
       "0      crocodile dundee Crocodile Dundee is a 1986 Au...      0       0   \n",
       "1      heroes ( david bowie song ) Heroes\"\" is a song...      1       1   \n",
       "2      weird al yankovic Alfred Matthew \"Weird Al\" Ya...      2       2   \n",
       "3      wild bill hickok James Butler \"Wild Bill\" Hick...      3       3   \n",
       "4      ' allo'allo! Allo Allo! is a BBC television Br...      4       4   \n",
       "...                                                  ...    ...     ...   \n",
       "73912  skoda roomster The Škoda Roomster (Type 5J) is...  73965   73912   \n",
       "73913  skoda superb The current Škoda Superb is a lar...  73966   73913   \n",
       "73914  skoda yeti The Škoda Yeti (codenamed Typ 5L)ET...  73967   73914   \n",
       "73915  ’ o sole mio  is a globally known Neapolitan s...  73968   73915   \n",
       "73916  … very'eavy … very'umble …Very 'Eavy …Very 'Um...  73969   73916   \n",
       "\n",
       "         kmeas_id  \n",
       "0        11-23-23  \n",
       "1       29-6-25-0  \n",
       "2       24-12-4-0  \n",
       "3        3-6-21-0  \n",
       "4      26-19-15-0  \n",
       "...           ...  \n",
       "73912  13-20-10-2  \n",
       "73913   13-20-4-7  \n",
       "73914  13-20-10-3  \n",
       "73915   29-12-2-8  \n",
       "73916     9-26-16  \n",
       "\n",
       "[73917 rows x 4 columns]"
      ]
     },
     "execution_count": 53,
     "metadata": {},
     "output_type": "execute_result"
    }
   ],
   "source": [
    "df_drop_title"
   ]
  },
  {
   "cell_type": "code",
   "execution_count": 63,
   "id": "8b12cc83",
   "metadata": {},
   "outputs": [],
   "source": [
    "queryid_oldid_dict = {}\n",
    "bertid_oldid_dict = {}\n",
    "map_file = \"trivia_title_cont.tsv\"\n",
    "with open(map_file, 'r') as f:\n",
    "    for line in f.readlines():\n",
    "        query, queryid, oldid, bert_k30_c30 = line.split(\"\\t\")\n",
    "        queryid_oldid_dict[oldid] = queryid\n",
    "        bertid_oldid_dict[oldid] = bert_k30_c30\n",
    "\n",
    "train_file = \"Trivia_doc_content.tsv\"\n",
    "doc_aug_file = open(\"trivia_doc_aug.tsv\", 'w') \n",
    "with open(train_file, 'r') as f:\n",
    "    for line in f.readlines():\n",
    "        _, docid, _, _, content = line.split(\"\\t\")\n",
    "        content = content.split(' ')\n",
    "        add_num = max(0, len(content)-3000) / 3000\n",
    "        for i in range(10+int(add_num)):\n",
    "            begin = random.randrange(0, len(content))\n",
    "            # if begin >= (len(content)-64):\n",
    "            #     begin = max(0, len(content)-64)\n",
    "            end = begin + 64 if len(content) > begin + 64 else len(content)\n",
    "            doc_aug = content[begin:end]\n",
    "            doc_aug = ' '.join(doc_aug)\n",
    "            queryid = queryid_oldid_dict[docid]\n",
    "            bert_k30_c30 = bertid_oldid_dict[docid]\n",
    "            # doc_aug_file.write('\\t'.join([doc_aug, str(queryid), str(docid), str(bert_k30_c30)]) + '\\n')\n",
    "            doc_aug_file.write('\\t'.join([doc_aug, str(queryid), str(docid), str(bert_k30_c30)]))\n",
    "            doc_aug_file.flush()"
   ]
  }
 ],
 "metadata": {
  "kernelspec": {
   "display_name": "faiss",
   "language": "python",
   "name": "faiss"
  },
  "language_info": {
   "codemirror_mode": {
    "name": "ipython",
    "version": 3
   },
   "file_extension": ".py",
   "mimetype": "text/x-python",
   "name": "python",
   "nbconvert_exporter": "python",
   "pygments_lexer": "ipython3",
   "version": "3.10.6"
  }
 },
 "nbformat": 4,
 "nbformat_minor": 5
}
